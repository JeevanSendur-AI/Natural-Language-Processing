{
 "cells": [
  {
   "cell_type": "code",
   "execution_count": 2,
   "metadata": {},
   "outputs": [
    {
     "name": "stdout",
     "output_type": "stream",
     "text": [
      "Defaulting to user installation because normal site-packages is not writeable"
     ]
    },
    {
     "name": "stderr",
     "output_type": "stream",
     "text": [
      "\n",
      "[notice] A new release of pip is available: 23.1.2 -> 24.3.1\n",
      "[notice] To update, run: python.exe -m pip install --upgrade pip\n"
     ]
    },
    {
     "name": "stdout",
     "output_type": "stream",
     "text": [
      "\n",
      "Collecting numpy\n",
      "  Downloading numpy-2.1.3-cp311-cp311-win_amd64.whl (12.9 MB)\n",
      "                                              0.0/12.9 MB ? eta -:--:--\n",
      "                                              0.0/12.9 MB 1.4 MB/s eta 0:00:10\n",
      "                                              0.0/12.9 MB 1.4 MB/s eta 0:00:10\n",
      "                                             0.1/12.9 MB 655.4 kB/s eta 0:00:20\n",
      "                                             0.1/12.9 MB 656.4 kB/s eta 0:00:20\n",
      "                                             0.2/12.9 MB 958.4 kB/s eta 0:00:14\n",
      "                                              0.3/12.9 MB 1.1 MB/s eta 0:00:12\n",
      "     -                                        0.4/12.9 MB 1.4 MB/s eta 0:00:10\n",
      "     -                                        0.6/12.9 MB 1.8 MB/s eta 0:00:07\n",
      "     --                                       0.7/12.9 MB 2.1 MB/s eta 0:00:06\n",
      "     --                                       0.9/12.9 MB 2.2 MB/s eta 0:00:06\n",
      "     ---                                      1.0/12.9 MB 2.3 MB/s eta 0:00:06\n",
      "     ---                                      1.1/12.9 MB 2.2 MB/s eta 0:00:06\n",
      "     ---                                      1.2/12.9 MB 2.2 MB/s eta 0:00:06\n",
      "     ----                                     1.3/12.9 MB 2.2 MB/s eta 0:00:06\n",
      "     ----                                     1.4/12.9 MB 2.2 MB/s eta 0:00:06\n",
      "     ----                                     1.5/12.9 MB 2.2 MB/s eta 0:00:06\n",
      "     ----                                     1.6/12.9 MB 2.3 MB/s eta 0:00:05\n",
      "     -----                                    1.7/12.9 MB 2.2 MB/s eta 0:00:05\n",
      "     -----                                    1.8/12.9 MB 2.2 MB/s eta 0:00:05\n",
      "     -----                                    1.9/12.9 MB 2.3 MB/s eta 0:00:05\n",
      "     ------                                   2.0/12.9 MB 2.2 MB/s eta 0:00:05\n",
      "     ------                                   2.1/12.9 MB 2.3 MB/s eta 0:00:05\n",
      "     ------                                   2.2/12.9 MB 2.3 MB/s eta 0:00:05\n",
      "     -------                                  2.3/12.9 MB 2.3 MB/s eta 0:00:05\n",
      "     -------                                  2.4/12.9 MB 2.3 MB/s eta 0:00:05\n",
      "     -------                                  2.5/12.9 MB 2.3 MB/s eta 0:00:05\n",
      "     --------                                 2.6/12.9 MB 2.3 MB/s eta 0:00:05\n",
      "     --------                                 2.7/12.9 MB 2.3 MB/s eta 0:00:05\n",
      "     --------                                 2.8/12.9 MB 2.3 MB/s eta 0:00:05\n",
      "     --------                                 2.9/12.9 MB 2.4 MB/s eta 0:00:05\n",
      "     ---------                                3.0/12.9 MB 2.3 MB/s eta 0:00:05\n",
      "     ----------                               3.2/12.9 MB 2.4 MB/s eta 0:00:04\n",
      "     ----------                               3.2/12.9 MB 2.4 MB/s eta 0:00:04\n",
      "     ----------                               3.3/12.9 MB 2.3 MB/s eta 0:00:05\n",
      "     ----------                               3.4/12.9 MB 2.3 MB/s eta 0:00:05\n",
      "     ----------                               3.5/12.9 MB 2.4 MB/s eta 0:00:04\n",
      "     -----------                              3.6/12.9 MB 2.3 MB/s eta 0:00:05\n",
      "     -----------                              3.7/12.9 MB 2.4 MB/s eta 0:00:04\n",
      "     -----------                              3.8/12.9 MB 2.3 MB/s eta 0:00:04\n",
      "     ------------                             3.9/12.9 MB 2.3 MB/s eta 0:00:04\n",
      "     ------------                             4.0/12.9 MB 2.3 MB/s eta 0:00:04\n",
      "     ------------                             4.1/12.9 MB 2.3 MB/s eta 0:00:04\n",
      "     ------------                             4.2/12.9 MB 2.3 MB/s eta 0:00:04\n",
      "     -------------                            4.3/12.9 MB 2.3 MB/s eta 0:00:04\n",
      "     -------------                            4.4/12.9 MB 2.4 MB/s eta 0:00:04\n",
      "     --------------                           4.5/12.9 MB 2.4 MB/s eta 0:00:04\n",
      "     --------------                           4.6/12.9 MB 2.4 MB/s eta 0:00:04\n",
      "     --------------                           4.7/12.9 MB 2.4 MB/s eta 0:00:04\n",
      "     ---------------                          4.8/12.9 MB 2.3 MB/s eta 0:00:04\n",
      "     ---------------                          4.9/12.9 MB 2.3 MB/s eta 0:00:04\n",
      "     ---------------                          5.0/12.9 MB 2.4 MB/s eta 0:00:04\n",
      "     ----------------                         5.2/12.9 MB 2.4 MB/s eta 0:00:04\n",
      "     ----------------                         5.3/12.9 MB 2.4 MB/s eta 0:00:04\n",
      "     ----------------                         5.4/12.9 MB 2.4 MB/s eta 0:00:04\n",
      "     ----------------                         5.5/12.9 MB 2.4 MB/s eta 0:00:04\n",
      "     -----------------                        5.6/12.9 MB 2.4 MB/s eta 0:00:04\n",
      "     -----------------                        5.7/12.9 MB 2.4 MB/s eta 0:00:04\n",
      "     -----------------                        5.8/12.9 MB 2.4 MB/s eta 0:00:04\n",
      "     ------------------                       5.9/12.9 MB 2.3 MB/s eta 0:00:03\n",
      "     ------------------                       6.0/12.9 MB 2.4 MB/s eta 0:00:03\n",
      "     ------------------                       6.1/12.9 MB 2.3 MB/s eta 0:00:03\n",
      "     -------------------                      6.3/12.9 MB 2.4 MB/s eta 0:00:03\n",
      "     -------------------                      6.3/12.9 MB 2.4 MB/s eta 0:00:03\n",
      "     --------------------                     6.4/12.9 MB 2.4 MB/s eta 0:00:03\n",
      "     --------------------                     6.6/12.9 MB 2.4 MB/s eta 0:00:03\n",
      "     --------------------                     6.6/12.9 MB 2.4 MB/s eta 0:00:03\n",
      "     --------------------                     6.7/12.9 MB 2.4 MB/s eta 0:00:03\n",
      "     ---------------------                    6.8/12.9 MB 2.4 MB/s eta 0:00:03\n",
      "     ---------------------                    6.9/12.9 MB 2.4 MB/s eta 0:00:03\n",
      "     ---------------------                    7.0/12.9 MB 2.4 MB/s eta 0:00:03\n",
      "     ----------------------                   7.1/12.9 MB 2.4 MB/s eta 0:00:03\n",
      "     ----------------------                   7.3/12.9 MB 2.4 MB/s eta 0:00:03\n",
      "     ----------------------                   7.3/12.9 MB 2.4 MB/s eta 0:00:03\n",
      "     -----------------------                  7.4/12.9 MB 2.4 MB/s eta 0:00:03\n",
      "     -----------------------                  7.5/12.9 MB 2.4 MB/s eta 0:00:03\n",
      "     -----------------------                  7.6/12.9 MB 2.4 MB/s eta 0:00:03\n",
      "     -----------------------                  7.7/12.9 MB 2.4 MB/s eta 0:00:03\n",
      "     ------------------------                 7.8/12.9 MB 2.4 MB/s eta 0:00:03\n",
      "     ------------------------                 7.9/12.9 MB 2.4 MB/s eta 0:00:03\n",
      "     ------------------------                 8.0/12.9 MB 2.4 MB/s eta 0:00:03\n",
      "     -------------------------                8.1/12.9 MB 2.4 MB/s eta 0:00:02\n",
      "     -------------------------                8.2/12.9 MB 2.4 MB/s eta 0:00:02\n",
      "     -------------------------                8.3/12.9 MB 2.4 MB/s eta 0:00:02\n",
      "     --------------------------               8.5/12.9 MB 2.4 MB/s eta 0:00:02\n",
      "     --------------------------               8.5/12.9 MB 2.4 MB/s eta 0:00:02\n",
      "     --------------------------               8.7/12.9 MB 2.4 MB/s eta 0:00:02\n",
      "     ---------------------------              8.7/12.9 MB 2.4 MB/s eta 0:00:02\n",
      "     ---------------------------              8.8/12.9 MB 2.4 MB/s eta 0:00:02\n",
      "     ---------------------------              9.0/12.9 MB 2.4 MB/s eta 0:00:02\n",
      "     ----------------------------             9.0/12.9 MB 2.4 MB/s eta 0:00:02\n",
      "     ----------------------------             9.1/12.9 MB 2.4 MB/s eta 0:00:02\n",
      "     ----------------------------             9.2/12.9 MB 2.4 MB/s eta 0:00:02\n",
      "     ----------------------------             9.3/12.9 MB 2.4 MB/s eta 0:00:02\n",
      "     -----------------------------            9.5/12.9 MB 2.4 MB/s eta 0:00:02\n",
      "     -----------------------------            9.5/12.9 MB 2.4 MB/s eta 0:00:02\n",
      "     ------------------------------           9.7/12.9 MB 2.4 MB/s eta 0:00:02\n",
      "     ------------------------------           9.8/12.9 MB 2.4 MB/s eta 0:00:02\n",
      "     ------------------------------           9.8/12.9 MB 2.4 MB/s eta 0:00:02\n",
      "     ------------------------------           10.0/12.9 MB 2.4 MB/s eta 0:00:02\n",
      "     -------------------------------          10.0/12.9 MB 2.4 MB/s eta 0:00:02\n",
      "     -------------------------------          10.1/12.9 MB 2.4 MB/s eta 0:00:02\n",
      "     -------------------------------          10.2/12.9 MB 2.4 MB/s eta 0:00:02\n",
      "     --------------------------------         10.3/12.9 MB 2.4 MB/s eta 0:00:02\n",
      "     --------------------------------         10.4/12.9 MB 2.5 MB/s eta 0:00:01\n",
      "     --------------------------------         10.5/12.9 MB 2.5 MB/s eta 0:00:01\n",
      "     --------------------------------         10.6/12.9 MB 2.5 MB/s eta 0:00:01\n",
      "     ---------------------------------        10.7/12.9 MB 2.4 MB/s eta 0:00:01\n",
      "     ---------------------------------        10.8/12.9 MB 2.4 MB/s eta 0:00:01\n",
      "     ----------------------------------       11.0/12.9 MB 2.4 MB/s eta 0:00:01\n",
      "     ----------------------------------       11.1/12.9 MB 2.4 MB/s eta 0:00:01\n",
      "     ----------------------------------       11.2/12.9 MB 2.4 MB/s eta 0:00:01\n",
      "     -----------------------------------      11.3/12.9 MB 2.4 MB/s eta 0:00:01\n",
      "     -----------------------------------      11.4/12.9 MB 2.4 MB/s eta 0:00:01\n",
      "     -----------------------------------      11.5/12.9 MB 2.4 MB/s eta 0:00:01\n",
      "     -----------------------------------      11.6/12.9 MB 2.4 MB/s eta 0:00:01\n",
      "     ------------------------------------     11.7/12.9 MB 2.4 MB/s eta 0:00:01\n",
      "     ------------------------------------     11.8/12.9 MB 2.4 MB/s eta 0:00:01\n",
      "     ------------------------------------     11.8/12.9 MB 2.4 MB/s eta 0:00:01\n",
      "     -------------------------------------    12.0/12.9 MB 2.4 MB/s eta 0:00:01\n",
      "     -------------------------------------    12.1/12.9 MB 2.4 MB/s eta 0:00:01\n",
      "     -------------------------------------    12.2/12.9 MB 2.4 MB/s eta 0:00:01\n",
      "     --------------------------------------   12.3/12.9 MB 2.4 MB/s eta 0:00:01\n",
      "     --------------------------------------   12.4/12.9 MB 2.4 MB/s eta 0:00:01\n",
      "     --------------------------------------   12.5/12.9 MB 2.4 MB/s eta 0:00:01\n",
      "     ---------------------------------------  12.6/12.9 MB 2.4 MB/s eta 0:00:01\n",
      "     ---------------------------------------  12.7/12.9 MB 2.4 MB/s eta 0:00:01\n",
      "     ---------------------------------------  12.8/12.9 MB 2.4 MB/s eta 0:00:01\n",
      "     ---------------------------------------  12.9/12.9 MB 2.4 MB/s eta 0:00:01\n",
      "     ---------------------------------------- 12.9/12.9 MB 2.4 MB/s eta 0:00:00\n",
      "Collecting matplotlib\n",
      "  Downloading matplotlib-3.9.2-cp311-cp311-win_amd64.whl (7.8 MB)\n",
      "                                              0.0/7.8 MB ? eta -:--:--\n",
      "     -                                        0.2/7.8 MB 6.9 MB/s eta 0:00:02\n",
      "     -                                        0.4/7.8 MB 5.8 MB/s eta 0:00:02\n",
      "     --                                       0.5/7.8 MB 5.2 MB/s eta 0:00:02\n",
      "     --                                       0.6/7.8 MB 4.6 MB/s eta 0:00:02\n",
      "     ---                                      0.7/7.8 MB 3.8 MB/s eta 0:00:02\n",
      "     ---                                      0.7/7.8 MB 3.4 MB/s eta 0:00:03\n",
      "     ----                                     0.8/7.8 MB 3.2 MB/s eta 0:00:03\n",
      "     ----                                     1.0/7.8 MB 3.4 MB/s eta 0:00:03\n",
      "     -----                                    1.1/7.8 MB 3.0 MB/s eta 0:00:03\n",
      "     ------                                   1.2/7.8 MB 3.0 MB/s eta 0:00:03\n",
      "     ------                                   1.3/7.8 MB 2.9 MB/s eta 0:00:03\n",
      "     ------                                   1.4/7.8 MB 2.8 MB/s eta 0:00:03\n",
      "     -------                                  1.5/7.8 MB 2.8 MB/s eta 0:00:03\n",
      "     -------                                  1.5/7.8 MB 2.8 MB/s eta 0:00:03\n",
      "     --------                                 1.6/7.8 MB 2.7 MB/s eta 0:00:03\n",
      "     --------                                 1.8/7.8 MB 2.7 MB/s eta 0:00:03\n",
      "     ---------                                1.8/7.8 MB 2.7 MB/s eta 0:00:03\n",
      "     ---------                                1.9/7.8 MB 2.7 MB/s eta 0:00:03\n",
      "     ----------                               2.1/7.8 MB 2.7 MB/s eta 0:00:03\n",
      "     -----------                              2.2/7.8 MB 2.6 MB/s eta 0:00:03\n",
      "     -----------                              2.3/7.8 MB 2.6 MB/s eta 0:00:03\n",
      "     ------------                             2.4/7.8 MB 2.7 MB/s eta 0:00:03\n",
      "     ------------                             2.5/7.8 MB 2.6 MB/s eta 0:00:03\n",
      "     -------------                            2.6/7.8 MB 2.6 MB/s eta 0:00:02\n",
      "     -------------                            2.7/7.8 MB 2.6 MB/s eta 0:00:02\n",
      "     --------------                           2.8/7.8 MB 2.6 MB/s eta 0:00:02\n",
      "     --------------                           2.9/7.8 MB 2.6 MB/s eta 0:00:02\n",
      "     ---------------                          3.0/7.8 MB 2.6 MB/s eta 0:00:02\n",
      "     ---------------                          3.1/7.8 MB 2.6 MB/s eta 0:00:02\n",
      "     ----------------                         3.2/7.8 MB 2.6 MB/s eta 0:00:02\n",
      "     ----------------                         3.3/7.8 MB 2.6 MB/s eta 0:00:02\n",
      "     -----------------                        3.4/7.8 MB 2.6 MB/s eta 0:00:02\n",
      "     -----------------                        3.5/7.8 MB 2.6 MB/s eta 0:00:02\n",
      "     ------------------                       3.7/7.8 MB 2.6 MB/s eta 0:00:02\n",
      "     -------------------                      3.7/7.8 MB 2.6 MB/s eta 0:00:02\n",
      "     -------------------                      3.9/7.8 MB 2.6 MB/s eta 0:00:02\n",
      "     --------------------                     3.9/7.8 MB 2.5 MB/s eta 0:00:02\n",
      "     --------------------                     4.1/7.8 MB 2.6 MB/s eta 0:00:02\n",
      "     ---------------------                    4.2/7.8 MB 2.5 MB/s eta 0:00:02\n",
      "     ----------------------                   4.3/7.8 MB 2.5 MB/s eta 0:00:02\n",
      "     ----------------------                   4.4/7.8 MB 2.5 MB/s eta 0:00:02\n",
      "     ----------------------                   4.5/7.8 MB 2.5 MB/s eta 0:00:02\n",
      "     -----------------------                  4.6/7.8 MB 2.5 MB/s eta 0:00:02\n",
      "     ------------------------                 4.7/7.8 MB 2.5 MB/s eta 0:00:02\n",
      "     ------------------------                 4.8/7.8 MB 2.5 MB/s eta 0:00:02\n",
      "     -------------------------                4.9/7.8 MB 2.5 MB/s eta 0:00:02\n",
      "     -------------------------                5.0/7.8 MB 2.5 MB/s eta 0:00:02\n",
      "     --------------------------               5.1/7.8 MB 2.5 MB/s eta 0:00:02\n",
      "     --------------------------               5.2/7.8 MB 2.5 MB/s eta 0:00:02\n",
      "     ---------------------------              5.4/7.8 MB 2.5 MB/s eta 0:00:01\n",
      "     ---------------------------              5.5/7.8 MB 2.5 MB/s eta 0:00:01\n",
      "     ----------------------------             5.5/7.8 MB 2.5 MB/s eta 0:00:01\n",
      "     ----------------------------             5.6/7.8 MB 2.5 MB/s eta 0:00:01\n",
      "     -----------------------------            5.7/7.8 MB 2.5 MB/s eta 0:00:01\n",
      "     -----------------------------            5.9/7.8 MB 2.5 MB/s eta 0:00:01\n",
      "     ------------------------------           6.0/7.8 MB 2.5 MB/s eta 0:00:01\n",
      "     -------------------------------          6.1/7.8 MB 2.5 MB/s eta 0:00:01\n",
      "     -------------------------------          6.2/7.8 MB 2.5 MB/s eta 0:00:01\n",
      "     -------------------------------          6.3/7.8 MB 2.5 MB/s eta 0:00:01\n",
      "     --------------------------------         6.3/7.8 MB 2.5 MB/s eta 0:00:01\n",
      "     --------------------------------         6.4/7.8 MB 2.5 MB/s eta 0:00:01\n",
      "     ---------------------------------        6.5/7.8 MB 2.5 MB/s eta 0:00:01\n",
      "     ---------------------------------        6.6/7.8 MB 2.5 MB/s eta 0:00:01\n",
      "     ----------------------------------       6.7/7.8 MB 2.5 MB/s eta 0:00:01\n",
      "     ----------------------------------       6.8/7.8 MB 2.5 MB/s eta 0:00:01\n",
      "     -----------------------------------      6.9/7.8 MB 2.5 MB/s eta 0:00:01\n",
      "     -----------------------------------      7.0/7.8 MB 2.5 MB/s eta 0:00:01\n",
      "     ------------------------------------     7.1/7.8 MB 2.5 MB/s eta 0:00:01\n",
      "     ------------------------------------     7.2/7.8 MB 2.5 MB/s eta 0:00:01\n",
      "     -------------------------------------    7.3/7.8 MB 2.5 MB/s eta 0:00:01\n",
      "     -------------------------------------    7.4/7.8 MB 2.5 MB/s eta 0:00:01\n",
      "     --------------------------------------   7.5/7.8 MB 2.5 MB/s eta 0:00:01\n",
      "     --------------------------------------   7.6/7.8 MB 2.5 MB/s eta 0:00:01\n",
      "     ---------------------------------------  7.8/7.8 MB 2.5 MB/s eta 0:00:01\n",
      "     ---------------------------------------  7.8/7.8 MB 2.5 MB/s eta 0:00:01\n",
      "     ---------------------------------------- 7.8/7.8 MB 2.5 MB/s eta 0:00:00\n",
      "Collecting contourpy>=1.0.1 (from matplotlib)\n",
      "  Downloading contourpy-1.3.1-cp311-cp311-win_amd64.whl (219 kB)\n",
      "                                              0.0/219.8 kB ? eta -:--:--\n",
      "     -------------------------------------- 219.8/219.8 kB 4.5 MB/s eta 0:00:00\n",
      "Collecting cycler>=0.10 (from matplotlib)\n",
      "  Downloading cycler-0.12.1-py3-none-any.whl (8.3 kB)\n",
      "Collecting fonttools>=4.22.0 (from matplotlib)\n",
      "  Downloading fonttools-4.55.0-cp311-cp311-win_amd64.whl (2.2 MB)\n",
      "                                              0.0/2.2 MB ? eta -:--:--\n",
      "     -----                                    0.3/2.2 MB 8.9 MB/s eta 0:00:01\n",
      "     ------                                   0.4/2.2 MB 5.8 MB/s eta 0:00:01\n",
      "     --------                                 0.5/2.2 MB 4.3 MB/s eta 0:00:01\n",
      "     ----------                               0.6/2.2 MB 3.6 MB/s eta 0:00:01\n",
      "     -----------                              0.7/2.2 MB 3.2 MB/s eta 0:00:01\n",
      "     -------------                            0.8/2.2 MB 3.0 MB/s eta 0:00:01\n",
      "     ---------------                          0.9/2.2 MB 3.0 MB/s eta 0:00:01\n",
      "     -----------------                        1.0/2.2 MB 3.0 MB/s eta 0:00:01\n",
      "     -------------------                      1.1/2.2 MB 2.8 MB/s eta 0:00:01\n",
      "     ---------------------                    1.2/2.2 MB 2.9 MB/s eta 0:00:01\n",
      "     ----------------------                   1.3/2.2 MB 2.8 MB/s eta 0:00:01\n",
      "     -------------------------                1.4/2.2 MB 2.8 MB/s eta 0:00:01\n",
      "     --------------------------               1.5/2.2 MB 2.8 MB/s eta 0:00:01\n",
      "     ----------------------------             1.6/2.2 MB 2.7 MB/s eta 0:00:01\n",
      "     ------------------------------           1.7/2.2 MB 2.7 MB/s eta 0:00:01\n",
      "     --------------------------------         1.8/2.2 MB 2.7 MB/s eta 0:00:01\n",
      "     ----------------------------------       1.9/2.2 MB 2.6 MB/s eta 0:00:01\n",
      "     ------------------------------------     2.0/2.2 MB 2.6 MB/s eta 0:00:01\n",
      "     -------------------------------------    2.1/2.2 MB 2.6 MB/s eta 0:00:01\n",
      "     ---------------------------------------  2.2/2.2 MB 2.6 MB/s eta 0:00:01\n",
      "     ---------------------------------------- 2.2/2.2 MB 2.6 MB/s eta 0:00:00\n",
      "Collecting kiwisolver>=1.3.1 (from matplotlib)\n",
      "  Downloading kiwisolver-1.4.7-cp311-cp311-win_amd64.whl (56 kB)\n",
      "                                              0.0/56.0 kB ? eta -:--:--\n",
      "     ---------------------------------------- 56.0/56.0 kB ? eta 0:00:00\n",
      "Requirement already satisfied: packaging>=20.0 in c:\\users\\ch.en.u4aie22020\\appdata\\roaming\\python\\python311\\site-packages (from matplotlib) (24.2)\n",
      "Collecting pillow>=8 (from matplotlib)\n",
      "  Downloading pillow-11.0.0-cp311-cp311-win_amd64.whl (2.6 MB)\n",
      "                                              0.0/2.6 MB ? eta -:--:--\n",
      "     -----                                    0.3/2.6 MB 10.2 MB/s eta 0:00:01\n",
      "     -----                                    0.4/2.6 MB 5.9 MB/s eta 0:00:01\n",
      "     --------                                 0.5/2.6 MB 4.9 MB/s eta 0:00:01\n",
      "     ---------                                0.6/2.6 MB 3.9 MB/s eta 0:00:01\n",
      "     -----------                              0.7/2.6 MB 3.5 MB/s eta 0:00:01\n",
      "     ------------                             0.8/2.6 MB 3.3 MB/s eta 0:00:01\n",
      "     --------------                           0.9/2.6 MB 3.2 MB/s eta 0:00:01\n",
      "     ----------------                         1.0/2.6 MB 3.2 MB/s eta 0:00:01\n",
      "     -----------------                        1.1/2.6 MB 3.1 MB/s eta 0:00:01\n",
      "     -------------------                      1.2/2.6 MB 2.9 MB/s eta 0:00:01\n",
      "     --------------------                     1.3/2.6 MB 2.9 MB/s eta 0:00:01\n",
      "     ----------------------                   1.4/2.6 MB 2.8 MB/s eta 0:00:01\n",
      "     -----------------------                  1.5/2.6 MB 2.8 MB/s eta 0:00:01\n",
      "     -------------------------                1.6/2.6 MB 2.8 MB/s eta 0:00:01\n",
      "     --------------------------               1.7/2.6 MB 2.7 MB/s eta 0:00:01\n",
      "     ---------------------------              1.8/2.6 MB 2.7 MB/s eta 0:00:01\n",
      "     ------------------------------           1.9/2.6 MB 2.7 MB/s eta 0:00:01\n",
      "     -------------------------------          2.0/2.6 MB 2.7 MB/s eta 0:00:01\n",
      "     ---------------------------------        2.2/2.6 MB 2.8 MB/s eta 0:00:01\n",
      "     -----------------------------------      2.3/2.6 MB 2.7 MB/s eta 0:00:01\n",
      "     ------------------------------------     2.3/2.6 MB 2.7 MB/s eta 0:00:01\n",
      "     --------------------------------------   2.5/2.6 MB 2.7 MB/s eta 0:00:01\n",
      "     ---------------------------------------  2.6/2.6 MB 2.6 MB/s eta 0:00:01\n",
      "     ---------------------------------------- 2.6/2.6 MB 2.6 MB/s eta 0:00:00\n",
      "Collecting pyparsing>=2.3.1 (from matplotlib)\n",
      "  Downloading pyparsing-3.2.0-py3-none-any.whl (106 kB)\n",
      "                                              0.0/106.9 kB ? eta -:--:--\n",
      "     -------------------------------------- 106.9/106.9 kB 6.0 MB/s eta 0:00:00\n",
      "Requirement already satisfied: python-dateutil>=2.7 in c:\\users\\ch.en.u4aie22020\\appdata\\roaming\\python\\python311\\site-packages (from matplotlib) (2.9.0.post0)\n",
      "Requirement already satisfied: six>=1.5 in c:\\users\\ch.en.u4aie22020\\appdata\\roaming\\python\\python311\\site-packages (from python-dateutil>=2.7->matplotlib) (1.16.0)\n",
      "Installing collected packages: pyparsing, pillow, numpy, kiwisolver, fonttools, cycler, contourpy, matplotlib\n",
      "Successfully installed contourpy-1.3.1 cycler-0.12.1 fonttools-4.55.0 kiwisolver-1.4.7 matplotlib-3.9.2 numpy-2.1.3 pillow-11.0.0 pyparsing-3.2.0\n"
     ]
    }
   ],
   "source": [
    "! pip install numpy matplotlib"
   ]
  },
  {
   "cell_type": "code",
   "execution_count": 3,
   "metadata": {},
   "outputs": [],
   "source": [
    "from nltk.tokenize import sent_tokenize, word_tokenize"
   ]
  },
  {
   "cell_type": "code",
   "execution_count": 7,
   "metadata": {},
   "outputs": [
    {
     "name": "stderr",
     "output_type": "stream",
     "text": [
      "[nltk_data] Downloading package punkt to\n",
      "[nltk_data]     C:\\Users\\CH.EN.U4AIE22020\\AppData\\Roaming\\nltk_data...\n",
      "[nltk_data]   Package punkt is already up-to-date!\n",
      "[nltk_data] Downloading package punkt_tab to\n",
      "[nltk_data]     C:\\Users\\CH.EN.U4AIE22020\\AppData\\Roaming\\nltk_data...\n",
      "[nltk_data]   Unzipping tokenizers\\punkt_tab.zip.\n"
     ]
    },
    {
     "data": {
      "text/plain": [
       "True"
      ]
     },
     "execution_count": 7,
     "metadata": {},
     "output_type": "execute_result"
    }
   ],
   "source": [
    "import nltk\n",
    "nltk.download('punkt')\n",
    "nltk.download('punkt_tab')"
   ]
  },
  {
   "cell_type": "code",
   "execution_count": 8,
   "metadata": {},
   "outputs": [],
   "source": [
    "example_string = 'Muad Dib learned rapidly because his first training was in how to learn.And the first lesson of all was the basic trust that he could learn.Its shocking to find how many people do not believe they can learn,and how many more believe learning to be difficult.'"
   ]
  },
  {
   "cell_type": "code",
   "execution_count": 9,
   "metadata": {},
   "outputs": [
    {
     "data": {
      "text/plain": [
       "['Muad Dib learned rapidly because his first training was in how to learn.And the first lesson of all was the basic trust that he could learn.Its shocking to find how many people do not believe they can learn,and how many more believe learning to be difficult.']"
      ]
     },
     "execution_count": 9,
     "metadata": {},
     "output_type": "execute_result"
    }
   ],
   "source": [
    "sent_tokenize(example_string)"
   ]
  },
  {
   "cell_type": "code",
   "execution_count": 10,
   "metadata": {},
   "outputs": [
    {
     "name": "stderr",
     "output_type": "stream",
     "text": [
      "[nltk_data] Downloading package stopwords to\n",
      "[nltk_data]     C:\\Users\\CH.EN.U4AIE22020\\AppData\\Roaming\\nltk_data...\n",
      "[nltk_data]   Unzipping corpora\\stopwords.zip.\n"
     ]
    },
    {
     "data": {
      "text/plain": [
       "True"
      ]
     },
     "execution_count": 10,
     "metadata": {},
     "output_type": "execute_result"
    }
   ],
   "source": [
    "nltk.download(\"stopwords\")"
   ]
  },
  {
   "cell_type": "code",
   "execution_count": 12,
   "metadata": {},
   "outputs": [
    {
     "data": {
      "text/plain": [
       "['Charles',\n",
       " 'Leclerc',\n",
       " 'breaks',\n",
       " 'the',\n",
       " 'monaco',\n",
       " 'curse',\n",
       " '!',\n",
       " 'he',\n",
       " 'wins',\n",
       " 'the',\n",
       " 'Monaco',\n",
       " 'Grand',\n",
       " 'Prix',\n",
       " '!']"
      ]
     },
     "execution_count": 12,
     "metadata": {},
     "output_type": "execute_result"
    }
   ],
   "source": [
    "from nltk. corpus import stopwords\n",
    "\n",
    "from nltk.tokenize import word_tokenize\n",
    "\n",
    "worf_quote = \"Charles Leclerc breaks the monaco curse! he wins the Monaco Grand Prix!\"\n",
    "\n",
    "words_in_quote = word_tokenize(worf_quote)\n",
    "\n",
    "words_in_quote"
   ]
  },
  {
   "cell_type": "code",
   "execution_count": 13,
   "metadata": {},
   "outputs": [],
   "source": [
    "stop_words = set(stopwords.words(\"english\"))"
   ]
  },
  {
   "cell_type": "code",
   "execution_count": 14,
   "metadata": {},
   "outputs": [
    {
     "data": {
      "text/plain": [
       "['Charles',\n",
       " 'Leclerc',\n",
       " 'breaks',\n",
       " 'monaco',\n",
       " 'curse',\n",
       " '!',\n",
       " 'wins',\n",
       " 'Monaco',\n",
       " 'Grand',\n",
       " 'Prix',\n",
       " '!',\n",
       " 'Charles',\n",
       " 'Leclerc',\n",
       " 'breaks',\n",
       " 'monaco',\n",
       " 'curse',\n",
       " '!',\n",
       " 'wins',\n",
       " 'Monaco',\n",
       " 'Grand',\n",
       " 'Prix',\n",
       " '!']"
      ]
     },
     "execution_count": 14,
     "metadata": {},
     "output_type": "execute_result"
    }
   ],
   "source": [
    "filtered_list = []\n",
    "\n",
    "for word in words_in_quote:\n",
    "    if word.casefold() not in stop_words:\n",
    "        filtered_list.append(word)\n",
    "\n",
    "for word in words_in_quote:\n",
    "    if word.casefold() not in stop_words:\n",
    "        filtered_list.append(word)\n",
    "\n",
    "filtered_list"
   ]
  },
  {
   "cell_type": "markdown",
   "metadata": {},
   "source": [
    "# Stemming"
   ]
  },
  {
   "cell_type": "code",
   "execution_count": 15,
   "metadata": {},
   "outputs": [],
   "source": [
    "from nltk. stem import PorterStemmer"
   ]
  },
  {
   "cell_type": "code",
   "execution_count": 16,
   "metadata": {},
   "outputs": [],
   "source": [
    "from nltk.tokenize import word_tokenize\n",
    "\n",
    "stemmer = PorterStemmer()"
   ]
  },
  {
   "cell_type": "code",
   "execution_count": 20,
   "metadata": {},
   "outputs": [],
   "source": [
    "string_for_stemming = '1991, when the USSR fell, the west enjoyed, overwhelmed with joy, they celebrated'"
   ]
  },
  {
   "cell_type": "code",
   "execution_count": 21,
   "metadata": {},
   "outputs": [
    {
     "data": {
      "text/plain": [
       "['1991',\n",
       " ',',\n",
       " 'when',\n",
       " 'the',\n",
       " 'USSR',\n",
       " 'fell',\n",
       " ',',\n",
       " 'the',\n",
       " 'west',\n",
       " 'enjoyed',\n",
       " ',',\n",
       " 'overwhelmed',\n",
       " 'with',\n",
       " 'joy',\n",
       " ',',\n",
       " 'they',\n",
       " 'celebrated']"
      ]
     },
     "execution_count": 21,
     "metadata": {},
     "output_type": "execute_result"
    }
   ],
   "source": [
    "words = word_tokenize(string_for_stemming)\n",
    "\n",
    "words"
   ]
  },
  {
   "cell_type": "code",
   "execution_count": 22,
   "metadata": {},
   "outputs": [
    {
     "data": {
      "text/plain": [
       "['1991',\n",
       " ',',\n",
       " 'when',\n",
       " 'the',\n",
       " 'ussr',\n",
       " 'fell',\n",
       " ',',\n",
       " 'the',\n",
       " 'west',\n",
       " 'enjoy',\n",
       " ',',\n",
       " 'overwhelm',\n",
       " 'with',\n",
       " 'joy',\n",
       " ',',\n",
       " 'they',\n",
       " 'celebr']"
      ]
     },
     "execution_count": 22,
     "metadata": {},
     "output_type": "execute_result"
    }
   ],
   "source": [
    "stemmed_words = [stemmer.stem(word) for word in words]\n",
    "\n",
    "stemmed_words"
   ]
  },
  {
   "cell_type": "code",
   "execution_count": 24,
   "metadata": {},
   "outputs": [
    {
     "name": "stderr",
     "output_type": "stream",
     "text": [
      "[nltk_data] Downloading package averaged_perceptron_tagger_eng to\n",
      "[nltk_data]     C:\\Users\\CH.EN.U4AIE22020\\AppData\\Roaming\\nltk_data...\n",
      "[nltk_data]   Unzipping taggers\\averaged_perceptron_tagger_eng.zip.\n"
     ]
    },
    {
     "data": {
      "text/plain": [
       "True"
      ]
     },
     "execution_count": 24,
     "metadata": {},
     "output_type": "execute_result"
    }
   ],
   "source": [
    "nltk.download('averaged_perceptron_tagger_eng')"
   ]
  },
  {
   "cell_type": "code",
   "execution_count": 25,
   "metadata": {},
   "outputs": [
    {
     "data": {
      "text/plain": [
       "[('you', 'PRP'),\n",
       " ('must', 'MD'),\n",
       " ('first', 'VB'),\n",
       " ('invent', 'VB'),\n",
       " ('the', 'DT'),\n",
       " ('universe', 'NN'),\n",
       " (',', ','),\n",
       " ('which', 'WDT'),\n",
       " ('is', 'VBZ'),\n",
       " ('beautiful', 'JJ'),\n",
       " ('.', '.')]"
      ]
     },
     "execution_count": 25,
     "metadata": {},
     "output_type": "execute_result"
    }
   ],
   "source": [
    "from nltk. tokenize import word_tokenize\n",
    "\n",
    "sagan_quote = \" you must first invent the universe, which is beautiful.\"\n",
    "\n",
    "words_in_sagan_quote = word_tokenize(sagan_quote)\n",
    "\n",
    "import nltk\n",
    "nltk.pos_tag(words_in_sagan_quote)"
   ]
  },
  {
   "cell_type": "code",
   "execution_count": 29,
   "metadata": {},
   "outputs": [
    {
     "name": "stderr",
     "output_type": "stream",
     "text": [
      "[nltk_data] Downloading package tagsets_json to\n",
      "[nltk_data]     C:\\Users\\CH.EN.U4AIE22020\\AppData\\Roaming\\nltk_data...\n",
      "[nltk_data]   Unzipping help\\tagsets_json.zip.\n"
     ]
    },
    {
     "data": {
      "text/plain": [
       "True"
      ]
     },
     "execution_count": 29,
     "metadata": {},
     "output_type": "execute_result"
    }
   ],
   "source": [
    "nltk.download('tagsets_json')"
   ]
  },
  {
   "cell_type": "code",
   "execution_count": 30,
   "metadata": {},
   "outputs": [
    {
     "name": "stdout",
     "output_type": "stream",
     "text": [
      "$: dollar\n",
      "    $ -$ --$ A$ C$ HK$ M$ NZ$ S$ U.S.$ US$\n",
      "'': closing quotation mark\n",
      "    ' ''\n",
      "(: opening parenthesis\n",
      "    ( [ {\n",
      "): closing parenthesis\n",
      "    ) ] }\n",
      ",: comma\n",
      "    ,\n",
      "--: dash\n",
      "    --\n",
      ".: sentence terminator\n",
      "    . ! ?\n",
      ":: colon or ellipsis\n",
      "    : ; ...\n",
      "CC: conjunction, coordinating\n",
      "    & 'n and both but either et for less minus neither nor or plus so\n",
      "    therefore times v. versus vs. whether yet\n",
      "CD: numeral, cardinal\n",
      "    mid-1890 nine-thirty forty-two one-tenth ten million 0.5 one forty-\n",
      "    seven 1987 twenty '79 zero two 78-degrees eighty-four IX '60s .025\n",
      "    fifteen 271,124 dozen quintillion DM2,000 ...\n",
      "DT: determiner\n",
      "    all an another any both del each either every half la many much nary\n",
      "    neither no some such that the them these this those\n",
      "EX: existential there\n",
      "    there\n",
      "FW: foreign word\n",
      "    gemeinschaft hund ich jeux habeas Haementeria Herr K'ang-si vous\n",
      "    lutihaw alai je jour objets salutaris fille quibusdam pas trop Monte\n",
      "    terram fiche oui corporis ...\n",
      "IN: preposition or conjunction, subordinating\n",
      "    astride among uppon whether out inside pro despite on by throughout\n",
      "    below within for towards near behind atop around if like until below\n",
      "    next into if beside ...\n",
      "JJ: adjective or numeral, ordinal\n",
      "    third ill-mannered pre-war regrettable oiled calamitous first separable\n",
      "    ectoplasmic battery-powered participatory fourth still-to-be-named\n",
      "    multilingual multi-disciplinary ...\n",
      "JJR: adjective, comparative\n",
      "    bleaker braver breezier briefer brighter brisker broader bumper busier\n",
      "    calmer cheaper choosier cleaner clearer closer colder commoner costlier\n",
      "    cozier creamier crunchier cuter ...\n",
      "JJS: adjective, superlative\n",
      "    calmest cheapest choicest classiest cleanest clearest closest commonest\n",
      "    corniest costliest crassest creepiest crudest cutest darkest deadliest\n",
      "    dearest deepest densest dinkiest ...\n",
      "LS: list item marker\n",
      "    A A. B B. C C. D E F First G H I J K One SP-44001 SP-44002 SP-44005\n",
      "    SP-44007 Second Third Three Two * a b c d first five four one six three\n",
      "    two\n",
      "MD: modal auxiliary\n",
      "    can cannot could couldn't dare may might must need ought shall should\n",
      "    shouldn't will would\n",
      "NN: noun, common, singular or mass\n",
      "    common-carrier cabbage knuckle-duster Casino afghan shed thermostat\n",
      "    investment slide humour falloff slick wind hyena override subhumanity\n",
      "    machinist ...\n",
      "NNP: noun, proper, singular\n",
      "    Motown Venneboerger Czestochwa Ranzer Conchita Trumplane Christos\n",
      "    Oceanside Escobar Kreisler Sawyer Cougar Yvette Ervin ODI Darryl CTCA\n",
      "    Shannon A.K.C. Meltex Liverpool ...\n",
      "NNPS: noun, proper, plural\n",
      "    Americans Americas Amharas Amityvilles Amusements Anarcho-Syndicalists\n",
      "    Andalusians Andes Andruses Angels Animals Anthony Antilles Antiques\n",
      "    Apache Apaches Apocrypha ...\n",
      "NNS: noun, common, plural\n",
      "    undergraduates scotches bric-a-brac products bodyguards facets coasts\n",
      "    divestitures storehouses designs clubs fragrances averages\n",
      "    subjectivists apprehensions muses factory-jobs ...\n",
      "PDT: pre-determiner\n",
      "    all both half many quite such sure this\n",
      "POS: genitive marker\n",
      "    ' 's\n",
      "PRP: pronoun, personal\n",
      "    hers herself him himself hisself it itself me myself one oneself ours\n",
      "    ourselves ownself self she thee theirs them themselves they thou thy us\n",
      "PRP$: pronoun, possessive\n",
      "    her his mine my our ours their thy your\n",
      "RB: adverb\n",
      "    occasionally unabatingly maddeningly adventurously professedly\n",
      "    stirringly prominently technologically magisterially predominately\n",
      "    swiftly fiscally pitilessly ...\n",
      "RBR: adverb, comparative\n",
      "    further gloomier grander graver greater grimmer harder harsher\n",
      "    healthier heavier higher however larger later leaner lengthier less-\n",
      "    perfectly lesser lonelier longer louder lower more ...\n",
      "RBS: adverb, superlative\n",
      "    best biggest bluntest earliest farthest first furthest hardest\n",
      "    heartiest highest largest least less most nearest second tightest worst\n",
      "RP: particle\n",
      "    aboard about across along apart around aside at away back before behind\n",
      "    by crop down ever fast for forth from go high i.e. in into just later\n",
      "    low more off on open out over per pie raising start teeth that through\n",
      "    under unto up up-pp upon whole with you\n",
      "SYM: symbol\n",
      "    % & ' '' ''. ) ). * + ,. < = > @ A[fj] U.S U.S.S.R * ** ***\n",
      "TO: \"to\" as preposition or infinitive marker\n",
      "    to\n",
      "UH: interjection\n",
      "    Goodbye Goody Gosh Wow Jeepers Jee-sus Hubba Hey Kee-reist Oops amen\n",
      "    huh howdy uh dammit whammo shucks heck anyways whodunnit honey golly\n",
      "    man baby diddle hush sonuvabitch ...\n",
      "VB: verb, base form\n",
      "    ask assemble assess assign assume atone attention avoid bake balkanize\n",
      "    bank begin behold believe bend benefit bevel beware bless boil bomb\n",
      "    boost brace break bring broil brush build ...\n",
      "VBD: verb, past tense\n",
      "    dipped pleaded swiped regummed soaked tidied convened halted registered\n",
      "    cushioned exacted snubbed strode aimed adopted belied figgered\n",
      "    speculated wore appreciated contemplated ...\n",
      "VBG: verb, present participle or gerund\n",
      "    telegraphing stirring focusing angering judging stalling lactating\n",
      "    hankerin' alleging veering capping approaching traveling besieging\n",
      "    encrypting interrupting erasing wincing ...\n",
      "VBN: verb, past participle\n",
      "    multihulled dilapidated aerosolized chaired languished panelized used\n",
      "    experimented flourished imitated reunifed factored condensed sheared\n",
      "    unsettled primed dubbed desired ...\n",
      "VBP: verb, present tense, not 3rd person singular\n",
      "    predominate wrap resort sue twist spill cure lengthen brush terminate\n",
      "    appear tend stray glisten obtain comprise detest tease attract\n",
      "    emphasize mold postpone sever return wag ...\n",
      "VBZ: verb, present tense, 3rd person singular\n",
      "    bases reconstructs marks mixes displeases seals carps weaves snatches\n",
      "    slumps stretches authorizes smolders pictures emerges stockpiles\n",
      "    seduces fizzes uses bolsters slaps speaks pleads ...\n",
      "WDT: WH-determiner\n",
      "    that what whatever which whichever\n",
      "WP: WH-pronoun\n",
      "    that what whatever whatsoever which who whom whosoever\n",
      "WP$: WH-pronoun, possessive\n",
      "    whose\n",
      "WRB: Wh-adverb\n",
      "    how however whence whenever where whereby whereever wherein whereof why\n",
      "``: opening quotation mark\n",
      "    ` ``\n"
     ]
    }
   ],
   "source": [
    "nltk.help.upenn_tagset()"
   ]
  },
  {
   "cell_type": "code",
   "execution_count": 31,
   "metadata": {},
   "outputs": [
    {
     "data": {
      "text/plain": [
       "[('Twas', 'NNP'),\n",
       " ('brillig', 'NN'),\n",
       " (',', ','),\n",
       " ('and', 'CC'),\n",
       " ('the', 'DT'),\n",
       " ('slithy', 'JJ'),\n",
       " ('toves', 'NNS'),\n",
       " ('did', 'VBD'),\n",
       " ('gyre', 'VB')]"
      ]
     },
     "execution_count": 31,
     "metadata": {},
     "output_type": "execute_result"
    }
   ],
   "source": [
    "jabberwocky_excerpt ='Twas brillig, and the slithy toves did gyre'\n",
    "words_in_excerpt = word_tokenize(jabberwocky_excerpt)\n",
    "\n",
    "nltk.pos_tag(words_in_excerpt)"
   ]
  },
  {
   "cell_type": "code",
   "execution_count": 33,
   "metadata": {},
   "outputs": [
    {
     "name": "stderr",
     "output_type": "stream",
     "text": [
      "[nltk_data] Downloading package wordnet to\n",
      "[nltk_data]     C:\\Users\\CH.EN.U4AIE22020\\AppData\\Roaming\\nltk_data...\n"
     ]
    },
    {
     "data": {
      "text/plain": [
       "True"
      ]
     },
     "execution_count": 33,
     "metadata": {},
     "output_type": "execute_result"
    }
   ],
   "source": [
    "from nltk.stem import WordNetLemmatizer\n",
    "\n",
    "lemmatizer = WordNetLemmatizer()\n",
    "\n",
    "import nltk\n",
    "nltk.download('wordnet')"
   ]
  },
  {
   "cell_type": "code",
   "execution_count": 34,
   "metadata": {},
   "outputs": [
    {
     "data": {
      "text/plain": [
       "'scarf'"
      ]
     },
     "execution_count": 34,
     "metadata": {},
     "output_type": "execute_result"
    }
   ],
   "source": [
    "lemmatizer.lemmatize(\"scarves\")"
   ]
  },
  {
   "cell_type": "code",
   "execution_count": 50,
   "metadata": {},
   "outputs": [
    {
     "data": {
      "text/plain": [
       "['friends']"
      ]
     },
     "execution_count": 50,
     "metadata": {},
     "output_type": "execute_result"
    }
   ],
   "source": [
    "string_for_lemmatizing = \"friends\"\n",
    "\n",
    "words = word_tokenize(string_for_lemmatizing)\n",
    "\n",
    "words"
   ]
  },
  {
   "cell_type": "code",
   "execution_count": 51,
   "metadata": {},
   "outputs": [],
   "source": [
    "lemmatized_words = [lemmatizer. lemmatize(word) for word in words]"
   ]
  },
  {
   "cell_type": "code",
   "execution_count": 52,
   "metadata": {},
   "outputs": [
    {
     "data": {
      "text/plain": [
       "['friend']"
      ]
     },
     "execution_count": 52,
     "metadata": {},
     "output_type": "execute_result"
    }
   ],
   "source": [
    "lemmatized_words"
   ]
  },
  {
   "cell_type": "code",
   "execution_count": 56,
   "metadata": {},
   "outputs": [
    {
     "data": {
      "text/plain": [
       "'tall'"
      ]
     },
     "execution_count": 56,
     "metadata": {},
     "output_type": "execute_result"
    }
   ],
   "source": [
    "lemmatizer.lemmatize(\"tallest\", pos=\"a\")"
   ]
  },
  {
   "cell_type": "code",
   "execution_count": 49,
   "metadata": {},
   "outputs": [
    {
     "data": {
      "text/plain": [
       "['It',\n",
       " \"'s\",\n",
       " 'a',\n",
       " 'dangerous',\n",
       " 'business',\n",
       " ',',\n",
       " 'Frodo',\n",
       " ',',\n",
       " 'going',\n",
       " 'out',\n",
       " 'your',\n",
       " 'door',\n",
       " '.']"
      ]
     },
     "execution_count": 49,
     "metadata": {},
     "output_type": "execute_result"
    }
   ],
   "source": [
    "from nltk.tokenize import word_tokenize\n",
    "\n",
    "lotr_quote = \"It's a dangerous business, Frodo, going out your door.\"\n",
    "\n",
    "words_in_lotr_quote = word_tokenize(lotr_quote)\n",
    "\n",
    "words_in_lotr_quote"
   ]
  },
  {
   "cell_type": "code",
   "execution_count": 58,
   "metadata": {},
   "outputs": [
    {
     "name": "stderr",
     "output_type": "stream",
     "text": [
      "[nltk_data] Downloading package averaged_perceptron_tagger_eng to\n",
      "[nltk_data]     C:\\Users\\CH.EN.U4AIE22020\\AppData\\Roaming\\nltk_data...\n",
      "[nltk_data]   Package averaged_perceptron_tagger_eng is already up-to-\n",
      "[nltk_data]       date!\n"
     ]
    },
    {
     "data": {
      "text/plain": [
       "True"
      ]
     },
     "execution_count": 58,
     "metadata": {},
     "output_type": "execute_result"
    }
   ],
   "source": [
    "nltk.download(\"averaged_perceptron_tagger_eng\")"
   ]
  },
  {
   "cell_type": "code",
   "execution_count": 59,
   "metadata": {},
   "outputs": [
    {
     "data": {
      "text/plain": [
       "[('It', 'PRP'),\n",
       " (\"'s\", 'VBZ'),\n",
       " ('a', 'DT'),\n",
       " ('dangerous', 'JJ'),\n",
       " ('business', 'NN'),\n",
       " (',', ','),\n",
       " ('Frodo', 'NNP'),\n",
       " (',', ','),\n",
       " ('going', 'VBG'),\n",
       " ('out', 'RP'),\n",
       " ('your', 'PRP$'),\n",
       " ('door', 'NN'),\n",
       " ('.', '.')]"
      ]
     },
     "execution_count": 59,
     "metadata": {},
     "output_type": "execute_result"
    }
   ],
   "source": [
    "lotr_pos_tags = nltk.pos_tag(words_in_lotr_quote)\n",
    "\n",
    "lotr_pos_tags"
   ]
  },
  {
   "cell_type": "code",
   "execution_count": 60,
   "metadata": {},
   "outputs": [],
   "source": [
    "grammar = \"NP: {<DT> ?< JJ> *< NN>}\"\n",
    "\n",
    "chunk_parser = nltk. RegexpParser(grammar)\n",
    "\n",
    "tree = chunk_parser.parse(lotr_pos_tags)\n",
    "\n",
    "tree.draw()"
   ]
  },
  {
   "cell_type": "code",
   "execution_count": 61,
   "metadata": {},
   "outputs": [
    {
     "data": {
      "text/plain": [
       "[('It', 'PRP'),\n",
       " (\"'s\", 'VBZ'),\n",
       " ('a', 'DT'),\n",
       " ('dangerous', 'JJ'),\n",
       " ('business', 'NN'),\n",
       " (',', ','),\n",
       " ('Frodo', 'NNP'),\n",
       " (',', ','),\n",
       " ('going', 'VBG'),\n",
       " ('out', 'RP'),\n",
       " ('your', 'PRP$'),\n",
       " ('door', 'NN'),\n",
       " ('.', '.')]"
      ]
     },
     "execution_count": 61,
     "metadata": {},
     "output_type": "execute_result"
    }
   ],
   "source": [
    "lotr_pos_tags"
   ]
  },
  {
   "cell_type": "code",
   "execution_count": null,
   "metadata": {},
   "outputs": [],
   "source": [
    "grammar = 'Chunk: { <.* >+}}<JJ>{'"
   ]
  },
  {
   "cell_type": "code",
   "execution_count": 62,
   "metadata": {},
   "outputs": [],
   "source": [
    "chunk_parser = nltk. RegexpParser(grammar)"
   ]
  },
  {
   "cell_type": "code",
   "execution_count": 65,
   "metadata": {},
   "outputs": [
    {
     "data": {
      "image/svg+xml": [
       "<svg baseProfile=\"full\" height=\"168px\" preserveAspectRatio=\"xMidYMid meet\" style=\"font-family: times, serif; font-weight: normal; font-style: normal; font-size: 16px\" version=\"1.1\" viewBox=\"0,0,600.0,168.0\" width=\"600px\" xmlns=\"http://www.w3.org/2000/svg\" xmlns:ev=\"http://www.w3.org/2001/xml-events\" xmlns:xlink=\"http://www.w3.org/1999/xlink\"><defs /><svg width=\"100%\" x=\"0\" y=\"0px\"><defs /><text text-anchor=\"middle\" x=\"50%\" y=\"16px\">S</text></svg><svg width=\"6.66667%\" x=\"0%\" y=\"48px\"><defs /><svg width=\"100%\" x=\"0\" y=\"0px\"><defs /><text text-anchor=\"middle\" x=\"50%\" y=\"16px\">It</text></svg><svg width=\"100%\" x=\"0%\" y=\"48px\"><defs /><svg width=\"100%\" x=\"0\" y=\"0px\"><defs /><text text-anchor=\"middle\" x=\"50%\" y=\"16px\">PRP</text></svg></svg><line stroke=\"black\" x1=\"50%\" x2=\"50%\" y1=\"20px\" y2=\"48px\" /></svg><line stroke=\"black\" x1=\"50%\" x2=\"3.33333%\" y1=\"20px\" y2=\"48px\" /><svg width=\"6.66667%\" x=\"6.66667%\" y=\"48px\"><defs /><svg width=\"100%\" x=\"0\" y=\"0px\"><defs /><text text-anchor=\"middle\" x=\"50%\" y=\"16px\">'s</text></svg><svg width=\"100%\" x=\"0%\" y=\"48px\"><defs /><svg width=\"100%\" x=\"0\" y=\"0px\"><defs /><text text-anchor=\"middle\" x=\"50%\" y=\"16px\">VBZ</text></svg></svg><line stroke=\"black\" x1=\"50%\" x2=\"50%\" y1=\"20px\" y2=\"48px\" /></svg><line stroke=\"black\" x1=\"50%\" x2=\"10%\" y1=\"20px\" y2=\"48px\" /><svg width=\"33.3333%\" x=\"13.3333%\" y=\"48px\"><defs /><svg width=\"100%\" x=\"0\" y=\"0px\"><defs /><text text-anchor=\"middle\" x=\"50%\" y=\"16px\">NP</text></svg><svg width=\"16%\" x=\"0%\" y=\"48px\"><defs /><svg width=\"100%\" x=\"0\" y=\"0px\"><defs /><text text-anchor=\"middle\" x=\"50%\" y=\"16px\">a</text></svg><svg width=\"100%\" x=\"0%\" y=\"48px\"><defs /><svg width=\"100%\" x=\"0\" y=\"0px\"><defs /><text text-anchor=\"middle\" x=\"50%\" y=\"16px\">DT</text></svg></svg><line stroke=\"black\" x1=\"50%\" x2=\"50%\" y1=\"20px\" y2=\"48px\" /></svg><line stroke=\"black\" x1=\"50%\" x2=\"8%\" y1=\"20px\" y2=\"48px\" /><svg width=\"44%\" x=\"16%\" y=\"48px\"><defs /><svg width=\"100%\" x=\"0\" y=\"0px\"><defs /><text text-anchor=\"middle\" x=\"50%\" y=\"16px\">dangerous</text></svg><svg width=\"100%\" x=\"0%\" y=\"48px\"><defs /><svg width=\"100%\" x=\"0\" y=\"0px\"><defs /><text text-anchor=\"middle\" x=\"50%\" y=\"16px\">JJ</text></svg></svg><line stroke=\"black\" x1=\"50%\" x2=\"50%\" y1=\"20px\" y2=\"48px\" /></svg><line stroke=\"black\" x1=\"50%\" x2=\"38%\" y1=\"20px\" y2=\"48px\" /><svg width=\"40%\" x=\"60%\" y=\"48px\"><defs /><svg width=\"100%\" x=\"0\" y=\"0px\"><defs /><text text-anchor=\"middle\" x=\"50%\" y=\"16px\">business</text></svg><svg width=\"100%\" x=\"0%\" y=\"48px\"><defs /><svg width=\"100%\" x=\"0\" y=\"0px\"><defs /><text text-anchor=\"middle\" x=\"50%\" y=\"16px\">NN</text></svg></svg><line stroke=\"black\" x1=\"50%\" x2=\"50%\" y1=\"20px\" y2=\"48px\" /></svg><line stroke=\"black\" x1=\"50%\" x2=\"80%\" y1=\"20px\" y2=\"48px\" /></svg><line stroke=\"black\" x1=\"50%\" x2=\"30%\" y1=\"20px\" y2=\"48px\" /><svg width=\"4%\" x=\"46.6667%\" y=\"48px\"><defs /><svg width=\"100%\" x=\"0\" y=\"0px\"><defs /><text text-anchor=\"middle\" x=\"50%\" y=\"16px\">,</text></svg><svg width=\"100%\" x=\"0%\" y=\"48px\"><defs /><svg width=\"100%\" x=\"0\" y=\"0px\"><defs /><text text-anchor=\"middle\" x=\"50%\" y=\"16px\">,</text></svg></svg><line stroke=\"black\" x1=\"50%\" x2=\"50%\" y1=\"20px\" y2=\"48px\" /></svg><line stroke=\"black\" x1=\"50%\" x2=\"48.6667%\" y1=\"20px\" y2=\"48px\" /><svg width=\"9.33333%\" x=\"50.6667%\" y=\"48px\"><defs /><svg width=\"100%\" x=\"0\" y=\"0px\"><defs /><text text-anchor=\"middle\" x=\"50%\" y=\"16px\">Frodo</text></svg><svg width=\"100%\" x=\"0%\" y=\"48px\"><defs /><svg width=\"100%\" x=\"0\" y=\"0px\"><defs /><text text-anchor=\"middle\" x=\"50%\" y=\"16px\">NNP</text></svg></svg><line stroke=\"black\" x1=\"50%\" x2=\"50%\" y1=\"20px\" y2=\"48px\" /></svg><line stroke=\"black\" x1=\"50%\" x2=\"55.3333%\" y1=\"20px\" y2=\"48px\" /><svg width=\"4%\" x=\"60%\" y=\"48px\"><defs /><svg width=\"100%\" x=\"0\" y=\"0px\"><defs /><text text-anchor=\"middle\" x=\"50%\" y=\"16px\">,</text></svg><svg width=\"100%\" x=\"0%\" y=\"48px\"><defs /><svg width=\"100%\" x=\"0\" y=\"0px\"><defs /><text text-anchor=\"middle\" x=\"50%\" y=\"16px\">,</text></svg></svg><line stroke=\"black\" x1=\"50%\" x2=\"50%\" y1=\"20px\" y2=\"48px\" /></svg><line stroke=\"black\" x1=\"50%\" x2=\"62%\" y1=\"20px\" y2=\"48px\" /><svg width=\"9.33333%\" x=\"64%\" y=\"48px\"><defs /><svg width=\"100%\" x=\"0\" y=\"0px\"><defs /><text text-anchor=\"middle\" x=\"50%\" y=\"16px\">going</text></svg><svg width=\"100%\" x=\"0%\" y=\"48px\"><defs /><svg width=\"100%\" x=\"0\" y=\"0px\"><defs /><text text-anchor=\"middle\" x=\"50%\" y=\"16px\">VBG</text></svg></svg><line stroke=\"black\" x1=\"50%\" x2=\"50%\" y1=\"20px\" y2=\"48px\" /></svg><line stroke=\"black\" x1=\"50%\" x2=\"68.6667%\" y1=\"20px\" y2=\"48px\" /><svg width=\"6.66667%\" x=\"73.3333%\" y=\"48px\"><defs /><svg width=\"100%\" x=\"0\" y=\"0px\"><defs /><text text-anchor=\"middle\" x=\"50%\" y=\"16px\">out</text></svg><svg width=\"100%\" x=\"0%\" y=\"48px\"><defs /><svg width=\"100%\" x=\"0\" y=\"0px\"><defs /><text text-anchor=\"middle\" x=\"50%\" y=\"16px\">RP</text></svg></svg><line stroke=\"black\" x1=\"50%\" x2=\"50%\" y1=\"20px\" y2=\"48px\" /></svg><line stroke=\"black\" x1=\"50%\" x2=\"76.6667%\" y1=\"20px\" y2=\"48px\" /><svg width=\"8%\" x=\"80%\" y=\"48px\"><defs /><svg width=\"100%\" x=\"0\" y=\"0px\"><defs /><text text-anchor=\"middle\" x=\"50%\" y=\"16px\">your</text></svg><svg width=\"100%\" x=\"0%\" y=\"48px\"><defs /><svg width=\"100%\" x=\"0\" y=\"0px\"><defs /><text text-anchor=\"middle\" x=\"50%\" y=\"16px\">PRP$</text></svg></svg><line stroke=\"black\" x1=\"50%\" x2=\"50%\" y1=\"20px\" y2=\"48px\" /></svg><line stroke=\"black\" x1=\"50%\" x2=\"84%\" y1=\"20px\" y2=\"48px\" /><svg width=\"8%\" x=\"88%\" y=\"48px\"><defs /><svg width=\"100%\" x=\"0\" y=\"0px\"><defs /><text text-anchor=\"middle\" x=\"50%\" y=\"16px\">NP</text></svg><svg width=\"100%\" x=\"0%\" y=\"48px\"><defs /><svg width=\"100%\" x=\"0\" y=\"0px\"><defs /><text text-anchor=\"middle\" x=\"50%\" y=\"16px\">door</text></svg><svg width=\"100%\" x=\"0%\" y=\"48px\"><defs /><svg width=\"100%\" x=\"0\" y=\"0px\"><defs /><text text-anchor=\"middle\" x=\"50%\" y=\"16px\">NN</text></svg></svg><line stroke=\"black\" x1=\"50%\" x2=\"50%\" y1=\"20px\" y2=\"48px\" /></svg><line stroke=\"black\" x1=\"50%\" x2=\"50%\" y1=\"20px\" y2=\"48px\" /></svg><line stroke=\"black\" x1=\"50%\" x2=\"92%\" y1=\"20px\" y2=\"48px\" /><svg width=\"4%\" x=\"96%\" y=\"48px\"><defs /><svg width=\"100%\" x=\"0\" y=\"0px\"><defs /><text text-anchor=\"middle\" x=\"50%\" y=\"16px\">.</text></svg><svg width=\"100%\" x=\"0%\" y=\"48px\"><defs /><svg width=\"100%\" x=\"0\" y=\"0px\"><defs /><text text-anchor=\"middle\" x=\"50%\" y=\"16px\">.</text></svg></svg><line stroke=\"black\" x1=\"50%\" x2=\"50%\" y1=\"20px\" y2=\"48px\" /></svg><line stroke=\"black\" x1=\"50%\" x2=\"98%\" y1=\"20px\" y2=\"48px\" /></svg>"
      ],
      "text/plain": [
       "Tree('S', [('It', 'PRP'), (\"'s\", 'VBZ'), Tree('NP', [('a', 'DT'), ('dangerous', 'JJ'), ('business', 'NN')]), (',', ','), ('Frodo', 'NNP'), (',', ','), ('going', 'VBG'), ('out', 'RP'), ('your', 'PRP$'), Tree('NP', [('door', 'NN')]), ('.', '.')])"
      ]
     },
     "execution_count": 65,
     "metadata": {},
     "output_type": "execute_result"
    }
   ],
   "source": [
    "tree = chunk_parser.parse(lotr_pos_tags)\n",
    "\n",
    "tree"
   ]
  },
  {
   "cell_type": "code",
   "execution_count": 64,
   "metadata": {},
   "outputs": [
    {
     "name": "stdout",
     "output_type": "stream",
     "text": [
      "Defaulting to user installation because normal site-packages is not writeable\n",
      "Collecting svgling\n",
      "  Downloading svgling-0.5.0-py3-none-any.whl (31 kB)\n",
      "Collecting svgwrite (from svgling)\n",
      "  Downloading svgwrite-1.4.3-py3-none-any.whl (67 kB)\n",
      "                                              0.0/67.1 kB ? eta -:--:--\n",
      "     -----------------------                41.0/67.1 kB 991.0 kB/s eta 0:00:01\n",
      "     ---------------------------------------- 67.1/67.1 kB 1.2 MB/s eta 0:00:00\n",
      "Installing collected packages: svgwrite, svgling\n",
      "Successfully installed svgling-0.5.0 svgwrite-1.4.3\n"
     ]
    },
    {
     "name": "stderr",
     "output_type": "stream",
     "text": [
      "\n",
      "[notice] A new release of pip is available: 23.1.2 -> 24.3.1\n",
      "[notice] To update, run: python.exe -m pip install --upgrade pip\n"
     ]
    }
   ],
   "source": [
    "! pip install svgling"
   ]
  },
  {
   "cell_type": "code",
   "execution_count": 69,
   "metadata": {},
   "outputs": [
    {
     "name": "stderr",
     "output_type": "stream",
     "text": [
      "[nltk_data] Downloading package maxent_ne_chunker_tab to\n",
      "[nltk_data]     C:\\Users\\CH.EN.U4AIE22020\\AppData\\Roaming\\nltk_data...\n",
      "[nltk_data]   Unzipping chunkers\\maxent_ne_chunker_tab.zip.\n"
     ]
    },
    {
     "data": {
      "text/plain": [
       "True"
      ]
     },
     "execution_count": 69,
     "metadata": {},
     "output_type": "execute_result"
    }
   ],
   "source": [
    "nltk.download(\"maxent_ne_chunker_tab\")"
   ]
  },
  {
   "cell_type": "code",
   "execution_count": 67,
   "metadata": {},
   "outputs": [
    {
     "name": "stderr",
     "output_type": "stream",
     "text": [
      "[nltk_data] Downloading package words to\n",
      "[nltk_data]     C:\\Users\\CH.EN.U4AIE22020\\AppData\\Roaming\\nltk_data...\n",
      "[nltk_data]   Unzipping corpora\\words.zip.\n"
     ]
    },
    {
     "data": {
      "text/plain": [
       "True"
      ]
     },
     "execution_count": 67,
     "metadata": {},
     "output_type": "execute_result"
    }
   ],
   "source": [
    "nltk.download(\"words\")"
   ]
  },
  {
   "cell_type": "code",
   "execution_count": 70,
   "metadata": {},
   "outputs": [],
   "source": [
    "tree = nltk.ne_chunk(lotr_pos_tags)"
   ]
  },
  {
   "cell_type": "code",
   "execution_count": 71,
   "metadata": {},
   "outputs": [],
   "source": [
    "tree.draw()"
   ]
  },
  {
   "cell_type": "code",
   "execution_count": 72,
   "metadata": {},
   "outputs": [],
   "source": [
    "tree = nltk.ne_chunk(lotr_pos_tags, binary=True)\n",
    "\n",
    "tree.draw()"
   ]
  },
  {
   "cell_type": "code",
   "execution_count": 73,
   "metadata": {},
   "outputs": [],
   "source": [
    "quote = \"\"\"\n",
    "... Men like Schiaparelli watched the red planet-it is odd, by-the-bye, that\n",
    "... for countless centuries Mars has been the star of war-but failed to\n",
    "... interpret the fluctuating appearances of the markings they mapped so well.\n",
    "... All that time the Martians must have been getting ready.\"\"\""
   ]
  },
  {
   "cell_type": "code",
   "execution_count": 74,
   "metadata": {},
   "outputs": [],
   "source": [
    "def extract_ne(quote):\n",
    "    words = word_tokenize(quote, language=\"English\")\n",
    "    tags = nltk.pos_tag(words)\n",
    "    tree = nltk.ne_chunk(tags, binary=True)\n",
    "    return set(\n",
    "        \"\".join(i[0] for i in t)\n",
    "        for t in tree\n",
    "        if hasattr(t, \"label\") and t.label() == \"NE\"\n",
    "    )"
   ]
  },
  {
   "cell_type": "code",
   "execution_count": 75,
   "metadata": {},
   "outputs": [
    {
     "data": {
      "text/plain": [
       "{'Mars', 'Schiaparelli'}"
      ]
     },
     "execution_count": 75,
     "metadata": {},
     "output_type": "execute_result"
    }
   ],
   "source": [
    "extract_ne(quote)"
   ]
  },
  {
   "cell_type": "code",
   "execution_count": 76,
   "metadata": {},
   "outputs": [
    {
     "name": "stderr",
     "output_type": "stream",
     "text": [
      "[nltk_data] Downloading collection 'book'\n",
      "[nltk_data]    | \n",
      "[nltk_data]    | Downloading package abc to C:\\Users\\CH.EN.U4AIE22020\\\n",
      "[nltk_data]    |     AppData\\Roaming\\nltk_data...\n",
      "[nltk_data]    |   Unzipping corpora\\abc.zip.\n",
      "[nltk_data]    | Downloading package brown to C:\\Users\\CH.EN.U4AIE2202\n",
      "[nltk_data]    |     0\\AppData\\Roaming\\nltk_data...\n",
      "[nltk_data]    |   Unzipping corpora\\brown.zip.\n",
      "[nltk_data]    | Downloading package chat80 to C:\\Users\\CH.EN.U4AIE220\n",
      "[nltk_data]    |     20\\AppData\\Roaming\\nltk_data...\n",
      "[nltk_data]    |   Unzipping corpora\\chat80.zip.\n",
      "[nltk_data]    | Downloading package cmudict to C:\\Users\\CH.EN.U4AIE22\n",
      "[nltk_data]    |     020\\AppData\\Roaming\\nltk_data...\n",
      "[nltk_data]    |   Unzipping corpora\\cmudict.zip.\n",
      "[nltk_data]    | Downloading package conll2000 to C:\\Users\\CH.EN.U4AIE\n",
      "[nltk_data]    |     22020\\AppData\\Roaming\\nltk_data...\n",
      "[nltk_data]    |   Unzipping corpora\\conll2000.zip.\n",
      "[nltk_data]    | Downloading package conll2002 to C:\\Users\\CH.EN.U4AIE\n",
      "[nltk_data]    |     22020\\AppData\\Roaming\\nltk_data...\n",
      "[nltk_data]    |   Unzipping corpora\\conll2002.zip.\n",
      "[nltk_data]    | Downloading package dependency_treebank to C:\\Users\\C\n",
      "[nltk_data]    |     H.EN.U4AIE22020\\AppData\\Roaming\\nltk_data...\n",
      "[nltk_data]    |   Unzipping corpora\\dependency_treebank.zip.\n",
      "[nltk_data]    | Downloading package genesis to C:\\Users\\CH.EN.U4AIE22\n",
      "[nltk_data]    |     020\\AppData\\Roaming\\nltk_data...\n",
      "[nltk_data]    |   Unzipping corpora\\genesis.zip.\n",
      "[nltk_data]    | Downloading package gutenberg to C:\\Users\\CH.EN.U4AIE\n",
      "[nltk_data]    |     22020\\AppData\\Roaming\\nltk_data...\n",
      "[nltk_data]    |   Unzipping corpora\\gutenberg.zip.\n",
      "[nltk_data]    | Downloading package ieer to C:\\Users\\CH.EN.U4AIE22020\n",
      "[nltk_data]    |     \\AppData\\Roaming\\nltk_data...\n",
      "[nltk_data]    |   Unzipping corpora\\ieer.zip.\n",
      "[nltk_data]    | Downloading package inaugural to C:\\Users\\CH.EN.U4AIE\n",
      "[nltk_data]    |     22020\\AppData\\Roaming\\nltk_data...\n",
      "[nltk_data]    |   Unzipping corpora\\inaugural.zip.\n",
      "[nltk_data]    | Downloading package movie_reviews to C:\\Users\\CH.EN.U\n",
      "[nltk_data]    |     4AIE22020\\AppData\\Roaming\\nltk_data...\n",
      "[nltk_data]    |   Unzipping corpora\\movie_reviews.zip.\n",
      "[nltk_data]    | Downloading package nps_chat to C:\\Users\\CH.EN.U4AIE2\n",
      "[nltk_data]    |     2020\\AppData\\Roaming\\nltk_data...\n",
      "[nltk_data]    |   Unzipping corpora\\nps_chat.zip.\n",
      "[nltk_data]    | Downloading package names to C:\\Users\\CH.EN.U4AIE2202\n",
      "[nltk_data]    |     0\\AppData\\Roaming\\nltk_data...\n",
      "[nltk_data]    |   Unzipping corpora\\names.zip.\n",
      "[nltk_data]    | Downloading package ppattach to C:\\Users\\CH.EN.U4AIE2\n",
      "[nltk_data]    |     2020\\AppData\\Roaming\\nltk_data...\n",
      "[nltk_data]    |   Unzipping corpora\\ppattach.zip.\n",
      "[nltk_data]    | Downloading package reuters to C:\\Users\\CH.EN.U4AIE22\n",
      "[nltk_data]    |     020\\AppData\\Roaming\\nltk_data...\n",
      "[nltk_data]    | Downloading package senseval to C:\\Users\\CH.EN.U4AIE2\n",
      "[nltk_data]    |     2020\\AppData\\Roaming\\nltk_data...\n",
      "[nltk_data]    |   Unzipping corpora\\senseval.zip.\n",
      "[nltk_data]    | Downloading package state_union to C:\\Users\\CH.EN.U4A\n",
      "[nltk_data]    |     IE22020\\AppData\\Roaming\\nltk_data...\n",
      "[nltk_data]    |   Unzipping corpora\\state_union.zip.\n",
      "[nltk_data]    | Downloading package stopwords to C:\\Users\\CH.EN.U4AIE\n",
      "[nltk_data]    |     22020\\AppData\\Roaming\\nltk_data...\n",
      "[nltk_data]    |   Package stopwords is already up-to-date!\n",
      "[nltk_data]    | Downloading package swadesh to C:\\Users\\CH.EN.U4AIE22\n",
      "[nltk_data]    |     020\\AppData\\Roaming\\nltk_data...\n",
      "[nltk_data]    |   Unzipping corpora\\swadesh.zip.\n",
      "[nltk_data]    | Downloading package timit to C:\\Users\\CH.EN.U4AIE2202\n",
      "[nltk_data]    |     0\\AppData\\Roaming\\nltk_data...\n",
      "[nltk_data]    |   Unzipping corpora\\timit.zip.\n",
      "[nltk_data]    | Downloading package treebank to C:\\Users\\CH.EN.U4AIE2\n",
      "[nltk_data]    |     2020\\AppData\\Roaming\\nltk_data...\n",
      "[nltk_data]    |   Unzipping corpora\\treebank.zip.\n",
      "[nltk_data]    | Downloading package toolbox to C:\\Users\\CH.EN.U4AIE22\n",
      "[nltk_data]    |     020\\AppData\\Roaming\\nltk_data...\n",
      "[nltk_data]    |   Unzipping corpora\\toolbox.zip.\n",
      "[nltk_data]    | Downloading package udhr to C:\\Users\\CH.EN.U4AIE22020\n",
      "[nltk_data]    |     \\AppData\\Roaming\\nltk_data...\n",
      "[nltk_data]    |   Unzipping corpora\\udhr.zip.\n",
      "[nltk_data]    | Downloading package udhr2 to C:\\Users\\CH.EN.U4AIE2202\n",
      "[nltk_data]    |     0\\AppData\\Roaming\\nltk_data...\n",
      "[nltk_data]    |   Unzipping corpora\\udhr2.zip.\n",
      "[nltk_data]    | Downloading package unicode_samples to C:\\Users\\CH.EN\n",
      "[nltk_data]    |     .U4AIE22020\\AppData\\Roaming\\nltk_data...\n",
      "[nltk_data]    |   Unzipping corpora\\unicode_samples.zip.\n",
      "[nltk_data]    | Downloading package webtext to C:\\Users\\CH.EN.U4AIE22\n",
      "[nltk_data]    |     020\\AppData\\Roaming\\nltk_data...\n",
      "[nltk_data]    |   Unzipping corpora\\webtext.zip.\n",
      "[nltk_data]    | Downloading package wordnet to C:\\Users\\CH.EN.U4AIE22\n",
      "[nltk_data]    |     020\\AppData\\Roaming\\nltk_data...\n",
      "[nltk_data]    |   Package wordnet is already up-to-date!\n",
      "[nltk_data]    | Downloading package wordnet_ic to C:\\Users\\CH.EN.U4AI\n",
      "[nltk_data]    |     E22020\\AppData\\Roaming\\nltk_data...\n",
      "[nltk_data]    |   Unzipping corpora\\wordnet_ic.zip.\n",
      "[nltk_data]    | Downloading package words to C:\\Users\\CH.EN.U4AIE2202\n",
      "[nltk_data]    |     0\\AppData\\Roaming\\nltk_data...\n",
      "[nltk_data]    |   Package words is already up-to-date!\n",
      "[nltk_data]    | Downloading package maxent_treebank_pos_tagger to C:\\\n",
      "[nltk_data]    |     Users\\CH.EN.U4AIE22020\\AppData\\Roaming\\nltk_data.\n",
      "[nltk_data]    |     ..\n",
      "[nltk_data]    |   Unzipping taggers\\maxent_treebank_pos_tagger.zip.\n",
      "[nltk_data]    | Downloading package maxent_ne_chunker to C:\\Users\\CH.\n",
      "[nltk_data]    |     EN.U4AIE22020\\AppData\\Roaming\\nltk_data...\n",
      "[nltk_data]    |   Package maxent_ne_chunker is already up-to-date!\n",
      "[nltk_data]    | Downloading package universal_tagset to C:\\Users\\CH.E\n",
      "[nltk_data]    |     N.U4AIE22020\\AppData\\Roaming\\nltk_data...\n",
      "[nltk_data]    |   Unzipping taggers\\universal_tagset.zip.\n",
      "[nltk_data]    | Downloading package punkt to C:\\Users\\CH.EN.U4AIE2202\n",
      "[nltk_data]    |     0\\AppData\\Roaming\\nltk_data...\n",
      "[nltk_data]    |   Package punkt is already up-to-date!\n",
      "[nltk_data]    | Downloading package book_grammars to C:\\Users\\CH.EN.U\n",
      "[nltk_data]    |     4AIE22020\\AppData\\Roaming\\nltk_data...\n",
      "[nltk_data]    |   Unzipping grammars\\book_grammars.zip.\n",
      "[nltk_data]    | Downloading package city_database to C:\\Users\\CH.EN.U\n",
      "[nltk_data]    |     4AIE22020\\AppData\\Roaming\\nltk_data...\n",
      "[nltk_data]    |   Unzipping corpora\\city_database.zip.\n",
      "[nltk_data]    | Downloading package tagsets to C:\\Users\\CH.EN.U4AIE22\n",
      "[nltk_data]    |     020\\AppData\\Roaming\\nltk_data...\n",
      "[nltk_data]    |   Package tagsets is already up-to-date!\n",
      "[nltk_data]    | Downloading package panlex_swadesh to C:\\Users\\CH.EN.\n",
      "[nltk_data]    |     U4AIE22020\\AppData\\Roaming\\nltk_data...\n",
      "[nltk_data]    | Downloading package averaged_perceptron_tagger to C:\\\n",
      "[nltk_data]    |     Users\\CH.EN.U4AIE22020\\AppData\\Roaming\\nltk_data.\n",
      "[nltk_data]    |     ..\n",
      "[nltk_data]    |   Package averaged_perceptron_tagger is already up-\n",
      "[nltk_data]    |       to-date!\n",
      "[nltk_data]    | \n",
      "[nltk_data]  Done downloading collection book\n"
     ]
    },
    {
     "data": {
      "text/plain": [
       "True"
      ]
     },
     "execution_count": 76,
     "metadata": {},
     "output_type": "execute_result"
    }
   ],
   "source": [
    "nltk.download(\"book\")"
   ]
  },
  {
   "cell_type": "code",
   "execution_count": 77,
   "metadata": {},
   "outputs": [
    {
     "name": "stdout",
     "output_type": "stream",
     "text": [
      "*** Introductory Examples for the NLTK Book ***\n",
      "Loading text1, ..., text9 and sent1, ..., sent9\n",
      "Type the name of the text or sentence to view it.\n",
      "Type: 'texts()' or 'sents()' to list the materials.\n",
      "text1: Moby Dick by Herman Melville 1851\n",
      "text2: Sense and Sensibility by Jane Austen 1811\n",
      "text3: The Book of Genesis\n",
      "text4: Inaugural Address Corpus\n",
      "text5: Chat Corpus\n",
      "text6: Monty Python and the Holy Grail\n",
      "text7: Wall Street Journal\n",
      "text8: Personals Corpus\n",
      "text9: The Man Who Was Thursday by G . K . Chesterton 1908\n"
     ]
    }
   ],
   "source": [
    "from nltk.book import *"
   ]
  },
  {
   "cell_type": "code",
   "execution_count": 78,
   "metadata": {},
   "outputs": [
    {
     "name": "stdout",
     "output_type": "stream",
     "text": [
      "Displaying 14 of 14 matches:\n",
      " to hearing from you all . ABLE young man seeks , sexy older women . Phone for \n",
      "ble relationship . GENUINE ATTRACTIVE MAN 40 y . o ., no ties , secure , 5 ft .\n",
      "ship , and quality times . VIETNAMESE MAN Single , never married , financially \n",
      "ip . WELL DRESSED emotionally healthy man 37 like to meet full figured woman fo\n",
      " nth subs LIKE TO BE MISTRESS of YOUR MAN like to be treated well . Bold DTE no\n",
      "eeks lady in similar position MARRIED MAN 50 , attrac . fit , seeks lady 40 - 5\n",
      "eks nice girl 25 - 30 serious rship . Man 46 attractive fit , assertive , and k\n",
      " 40 - 50 sought by Aussie mid 40s b / man f / ship r / ship LOVE to meet widowe\n",
      "discreet times . Sth E Subs . MARRIED MAN 42yo 6ft , fit , seeks Lady for discr\n",
      "woman , seeks professional , employed man , with interests in theatre , dining \n",
      " tall and of large build seeks a good man . I am a nonsmoker , social drinker ,\n",
      "lead to relationship . SEEKING HONEST MAN I am 41 y . o ., 5 ft . 4 , med . bui\n",
      " quiet times . Seeks 35 - 45 , honest man with good SOH & similar interests , f\n",
      " genuine , caring , honest and normal man for fship , poss rship . S / S , S / \n"
     ]
    }
   ],
   "source": [
    "text8.concordance(\"man\")"
   ]
  },
  {
   "cell_type": "code",
   "execution_count": 79,
   "metadata": {},
   "outputs": [
    {
     "name": "stdout",
     "output_type": "stream",
     "text": [
      "Displaying 11 of 11 matches:\n",
      "at home . Seeking an honest , caring woman , slim or med . build , who enjoys t\n",
      "thy man 37 like to meet full figured woman for relationship . 48 slim , shy , S\n",
      "rry . MALE 58 years old . Is there a Woman who would like to spend 1 weekend a \n",
      " other interests . Seeking Christian Woman for fship , view to rship . SWM 45 D\n",
      "ALE 60 - burly beared seeks intimate woman for outings n / s s / d F / ston / P\n",
      "ington . SCORPIO 47 seeks passionate woman for discreet intimate encounters SEX\n",
      "le dad . 42 , East sub . 5 \" 9 seeks woman 30 + for f / ship relationship TALL \n",
      "personal trainer looking for married woman age open for fun MARRIED Dark guy 37\n",
      "rinker , seeking slim - medium build woman who is happy in life , age open . AC\n",
      ". O . TERTIARY Educated professional woman , seeks professional , employed man \n",
      " real romantic , age 50 - 65 y . o . WOMAN OF SUBSTANCE 56 , 59 kg ., 50 , fit \n"
     ]
    }
   ],
   "source": [
    "text8.concordance(\"woman\")"
   ]
  },
  {
   "cell_type": "code",
   "execution_count": 80,
   "metadata": {},
   "outputs": [
    {
     "data": {
      "image/png": "[encoded data removed]",
      "text/plain": [
       "<Figure size 640x480 with 1 Axes>"
      ]
     },
     "metadata": {},
     "output_type": "display_data"
    }
   ],
   "source": [
    "text8.dispersion_plot(\n",
    "[\"woman\", \"lady\", \"gir1\", \"gal\", \"man\", \"gentleman\", \"boy\", \"guy\"]\n",
    ")"
   ]
  },
  {
   "cell_type": "code",
   "execution_count": 81,
   "metadata": {},
   "outputs": [
    {
     "data": {
      "image/png": "[encoded data removed]",
      "text/plain": [
       "<Figure size 640x480 with 1 Axes>"
      ]
     },
     "metadata": {},
     "output_type": "display_data"
    }
   ],
   "source": [
    "text2.dispersion_plot([\"Allenham\", \"Whitwell\", \"Cleveland\", \"Combe\"])"
   ]
  },
  {
   "cell_type": "code",
   "execution_count": 82,
   "metadata": {},
   "outputs": [
    {
     "name": "stdout",
     "output_type": "stream",
     "text": [
      "<FreqDist with 1108 samples and 4867 outcomes>\n"
     ]
    }
   ],
   "source": [
    "from nltk import FreqDist\n",
    "\n",
    "frequency_distribution = FreqDist(text8)\n",
    "print(frequency_distribution)"
   ]
  },
  {
   "cell_type": "code",
   "execution_count": 83,
   "metadata": {},
   "outputs": [
    {
     "data": {
      "text/plain": [
       "[(',', 539),\n",
       " ('.', 353),\n",
       " ('/', 110),\n",
       " ('for', 99),\n",
       " ('and', 74),\n",
       " ('to', 74),\n",
       " ('lady', 68),\n",
       " ('-', 66),\n",
       " ('seeks', 60),\n",
       " ('a', 52),\n",
       " ('with', 44),\n",
       " ('S', 36),\n",
       " ('ship', 33),\n",
       " ('&', 30),\n",
       " ('relationship', 29),\n",
       " ('fun', 28),\n",
       " ('in', 27),\n",
       " ('slim', 27),\n",
       " ('build', 27),\n",
       " ('o', 26),\n",
       " ('s', 24),\n",
       " ('y', 23),\n",
       " ('smoker', 23),\n",
       " ('50', 23),\n",
       " ('non', 22),\n",
       " ('I', 22),\n",
       " ('movies', 22),\n",
       " ('good', 21),\n",
       " ('honest', 20),\n",
       " ('dining', 19)]"
      ]
     },
     "execution_count": 83,
     "metadata": {},
     "output_type": "execute_result"
    }
   ],
   "source": [
    "frequency_distribution.most_common(30)"
   ]
  },
  {
   "cell_type": "code",
   "execution_count": 84,
   "metadata": {},
   "outputs": [],
   "source": [
    "meaningful_words = [\n",
    "word for word in text8 if word.casefold() not in stop_words\n",
    "]"
   ]
  },
  {
   "cell_type": "code",
   "execution_count": 85,
   "metadata": {},
   "outputs": [
    {
     "data": {
      "text/plain": [
       "[(',', 539),\n",
       " ('.', 353),\n",
       " ('/', 110),\n",
       " ('for', 99),\n",
       " ('and', 74),\n",
       " ('to', 74),\n",
       " ('lady', 68),\n",
       " ('-', 66),\n",
       " ('seeks', 60),\n",
       " ('a', 52),\n",
       " ('with', 44),\n",
       " ('S', 36),\n",
       " ('ship', 33),\n",
       " ('&', 30),\n",
       " ('relationship', 29),\n",
       " ('fun', 28),\n",
       " ('in', 27),\n",
       " ('slim', 27),\n",
       " ('build', 27),\n",
       " ('o', 26)]"
      ]
     },
     "execution_count": 85,
     "metadata": {},
     "output_type": "execute_result"
    }
   ],
   "source": [
    "frequency_distribution.most_common(20)"
   ]
  },
  {
   "cell_type": "code",
   "execution_count": 86,
   "metadata": {},
   "outputs": [
    {
     "name": "stdout",
     "output_type": "stream",
     "text": [
      "would like; medium build; social drinker; quiet nights; non smoker;\n",
      "long term; age open; Would like; easy going; financially secure; fun\n",
      "times; similar interests; Age open; weekends away; poss rship; well\n",
      "presented; never married; single mum; permanent relationship; slim\n",
      "build\n"
     ]
    }
   ],
   "source": [
    "text8.collocations()"
   ]
  },
  {
   "cell_type": "code",
   "execution_count": 87,
   "metadata": {},
   "outputs": [
    {
     "name": "stdout",
     "output_type": "stream",
     "text": [
      "medium build; social drinker; non smoker; quiet night; long term;\n",
      "would like; age open; easy going; financially secure; Would like; fun\n",
      "time; similar interest; Age open; poss rship; weekend away; well\n",
      "presented; never married; single mum; permanent relationship; year old\n"
     ]
    }
   ],
   "source": [
    "lemmatized_words = [lemmatizer. lemmatize(word) for word in text8]\n",
    "\n",
    "new_text = nltk. Text(lemmatized_words)\n",
    "\n",
    "new_text.collocations()"
   ]
  }
 ],
 "metadata": {
  "kernelspec": {
   "display_name": "Python 3",
   "language": "python",
   "name": "python3"
  },
  "language_info": {
   "codemirror_mode": {
    "name": "ipython",
    "version": 3
   },
   "file_extension": ".py",
   "mimetype": "text/x-python",
   "name": "python",
   "nbconvert_exporter": "python",
   "pygments_lexer": "ipython3",
   "version": "3.11.4"
  }
 },
 "nbformat": 4,
 "nbformat_minor": 2
}
