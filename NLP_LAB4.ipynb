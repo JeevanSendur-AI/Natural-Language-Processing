{
  "nbformat": 4,
  "nbformat_minor": 0,
  "metadata": {
    "colab": {
      "provenance": []
    },
    "kernelspec": {
      "name": "python3",
      "display_name": "Python 3"
    },
    "language_info": {
      "name": "python"
    }
  },
  "cells": [
    {
      "cell_type": "code",
      "execution_count": null,
      "metadata": {
        "id": "2jWnXy0V9K1g"
      },
      "outputs": [],
      "source": [
        "import nltk\n",
        "from nltk.corpus import reuters\n",
        "from nltk import ngrams\n",
        "from collections import Counter\n",
        "\n",
        "nltk.download('reuters')\n",
        "\n",
        "docs = [reuters.raw(fileid) for fileid in reuters.fileids()[:10]]\n",
        "text = ' '.join(docs)\n",
        "\n",
        "tokens = nltk.word_tokenize(text)\n",
        "\n",
        "n = 3\n",
        "\n",
        "n_grams = list(ngrams(tokens, n))\n",
        "n_gram_counts = Counter(n_grams)\n",
        "\n",
        "print(\"Top 10 N-grams and their frequencies:\")\n",
        "for n_gram, freq in n_gram_counts.most_common(10):\n",
        "    print(f\"{n_gram}: {freq}\")"
      ]
    }
  ]
}